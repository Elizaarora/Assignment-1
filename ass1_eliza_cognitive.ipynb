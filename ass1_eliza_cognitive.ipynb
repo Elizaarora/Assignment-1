{
  "nbformat": 4,
  "nbformat_minor": 0,
  "metadata": {
    "colab": {
      "provenance": [],
      "authorship_tag": "ABX9TyOG9Obo0YDr0tjvmLAEVc7S",
      "include_colab_link": true
    },
    "kernelspec": {
      "name": "python3",
      "display_name": "Python 3"
    },
    "language_info": {
      "name": "python"
    }
  },
  "cells": [
    {
      "cell_type": "markdown",
      "metadata": {
        "id": "view-in-github",
        "colab_type": "text"
      },
      "source": [
        "<a href=\"https://colab.research.google.com/github/Elizaarora/Assignment-1/blob/main/ass1_eliza_cognitive.ipynb\" target=\"_parent\"><img src=\"https://colab.research.google.com/assets/colab-badge.svg\" alt=\"Open In Colab\"/></a>"
      ]
    },
    {
      "cell_type": "markdown",
      "source": [
        "WAP to print your name three times\n"
      ],
      "metadata": {
        "id": "bdhJ5W22jrtE"
      }
    },
    {
      "cell_type": "code",
      "execution_count": 1,
      "metadata": {
        "colab": {
          "base_uri": "https://localhost:8080/"
        },
        "id": "-ge5JBbdfFSl",
        "outputId": "77fb2a12-c9d7-4213-8c02-d4191ace42d4"
      },
      "outputs": [
        {
          "output_type": "stream",
          "name": "stdout",
          "text": [
            "eliza arora\n",
            "eliza arora\n",
            "eliza arora\n"
          ]
        }
      ],
      "source": [
        "for i in range(3):\n",
        "    print('eliza arora')\n",
        ""
      ]
    },
    {
      "cell_type": "markdown",
      "source": [
        "WAP to add three numbers and print the result\n",
        "\n"
      ],
      "metadata": {
        "id": "STmGdJ5vhYQs"
      }
    },
    {
      "cell_type": "code",
      "source": [
        "a=2\n",
        "b=34\n",
        "c=56\n",
        "print(a,'+',b,'+',c,'=',a+b+c)\n"
      ],
      "metadata": {
        "colab": {
          "base_uri": "https://localhost:8080/"
        },
        "id": "LAitbbB3hrhR",
        "outputId": "8ae9bf1d-ba20-4187-a4ae-39d3b12969d8"
      },
      "execution_count": 15,
      "outputs": [
        {
          "output_type": "stream",
          "name": "stdout",
          "text": [
            "2 + 34 + 56 = 92\n"
          ]
        }
      ]
    },
    {
      "cell_type": "markdown",
      "source": [
        "WAP to concatinate three strings and print the result."
      ],
      "metadata": {
        "id": "Mvepa7KbiJqu"
      }
    },
    {
      "cell_type": "code",
      "source": [
        "a='myself'\n",
        "b='eliza'\n",
        "c='arora'\n",
        "print(a,'+',b,'+',c,'=',a+' '+b+' '+c)"
      ],
      "metadata": {
        "colab": {
          "base_uri": "https://localhost:8080/"
        },
        "id": "HMQPYZmsiIFI",
        "outputId": "66af836b-8f47-431a-f3c9-ed15cdca1078"
      },
      "execution_count": 3,
      "outputs": [
        {
          "output_type": "stream",
          "name": "stdout",
          "text": [
            "myself + eliza + arora = myself eliza arora\n"
          ]
        }
      ]
    },
    {
      "cell_type": "markdown",
      "source": [
        "WAP to print the table of 7, 9."
      ],
      "metadata": {
        "id": "H0eSsTXPiQF1"
      }
    },
    {
      "cell_type": "code",
      "source": [
        "x=7\n",
        "for i in range(1,11):\n",
        "    print(x,'*',i,'=',x*i)\n"
      ],
      "metadata": {
        "colab": {
          "base_uri": "https://localhost:8080/"
        },
        "id": "QciJFAf3iRtd",
        "outputId": "7a06b0f4-d1d8-4528-d227-be27dcfb2c22"
      },
      "execution_count": 5,
      "outputs": [
        {
          "output_type": "stream",
          "name": "stdout",
          "text": [
            "7 * 1 = 7\n",
            "7 * 2 = 14\n",
            "7 * 3 = 21\n",
            "7 * 4 = 28\n",
            "7 * 5 = 35\n",
            "7 * 6 = 42\n",
            "7 * 7 = 49\n",
            "7 * 8 = 56\n",
            "7 * 9 = 63\n",
            "7 * 10 = 70\n"
          ]
        }
      ]
    },
    {
      "cell_type": "markdown",
      "source": [],
      "metadata": {
        "id": "c5XqJJVOjo2g"
      }
    },
    {
      "cell_type": "code",
      "source": [
        "x=9\n",
        "for i in range(1,11):\n",
        "    print(x,'*',i,'=',x*i)"
      ],
      "metadata": {
        "colab": {
          "base_uri": "https://localhost:8080/"
        },
        "id": "-ESBR2Qniks6",
        "outputId": "9924a6e2-6857-4814-cc5c-f3b67ca9d69f"
      },
      "execution_count": 6,
      "outputs": [
        {
          "output_type": "stream",
          "name": "stdout",
          "text": [
            "9 * 1 = 9\n",
            "9 * 2 = 18\n",
            "9 * 3 = 27\n",
            "9 * 4 = 36\n",
            "9 * 5 = 45\n",
            "9 * 6 = 54\n",
            "9 * 7 = 63\n",
            "9 * 8 = 72\n",
            "9 * 9 = 81\n",
            "9 * 10 = 90\n"
          ]
        }
      ]
    },
    {
      "cell_type": "code",
      "source": [
        "x=int(input('enter a number:'))\n",
        "for i in range(1,11):\n",
        "    print(x,'*',i,'=',x*i)\n"
      ],
      "metadata": {
        "colab": {
          "base_uri": "https://localhost:8080/"
        },
        "id": "7q12rMrkip_1",
        "outputId": "03997236-c743-44c0-b02a-4ae02aea8496"
      },
      "execution_count": 7,
      "outputs": [
        {
          "output_type": "stream",
          "name": "stdout",
          "text": [
            "enter a number:5\n",
            "5 * 1 = 5\n",
            "5 * 2 = 10\n",
            "5 * 3 = 15\n",
            "5 * 4 = 20\n",
            "5 * 5 = 25\n",
            "5 * 6 = 30\n",
            "5 * 7 = 35\n",
            "5 * 8 = 40\n",
            "5 * 9 = 45\n",
            "5 * 10 = 50\n"
          ]
        }
      ]
    },
    {
      "cell_type": "markdown",
      "source": [
        "WAP to add all the numbers from 1 to n and n is given by user"
      ],
      "metadata": {
        "id": "OZGIj6gkivfy"
      }
    },
    {
      "cell_type": "code",
      "source": [
        "sum=0\n",
        "n=int(input('Enter a number:'))\n",
        "for i in range(1,n+1):\n",
        "    sum+=i\n",
        "print(sum)"
      ],
      "metadata": {
        "colab": {
          "base_uri": "https://localhost:8080/"
        },
        "id": "QbhNzaW9iwfz",
        "outputId": "7dc75e5b-f04b-4ccd-edc3-78944193fc91"
      },
      "execution_count": 8,
      "outputs": [
        {
          "output_type": "stream",
          "name": "stdout",
          "text": [
            "Enter a number:5\n",
            "15\n"
          ]
        }
      ]
    },
    {
      "cell_type": "markdown",
      "source": [
        "WAP to find max amoung three numbers and input from user. [Try max() function]"
      ],
      "metadata": {
        "id": "a5VquUp_i2UE"
      }
    },
    {
      "cell_type": "code",
      "source": [
        "a=int(input('enter a number:'))\n",
        "b=int(input('enter a number:'))\n",
        "c=int(input('enter a number:'))\n",
        "if(a>max(b,c)):\n",
        "    print(a,'is greater')\n",
        "else:\n",
        "    print(max(b,c),'is greater')"
      ],
      "metadata": {
        "colab": {
          "base_uri": "https://localhost:8080/"
        },
        "id": "c0obYBNbi3Cv",
        "outputId": "1062420e-c3dc-4dce-9d63-363fe1f6f8b3"
      },
      "execution_count": 9,
      "outputs": [
        {
          "output_type": "stream",
          "name": "stdout",
          "text": [
            "enter a number:5\n",
            "enter a number:3\n",
            "enter a number:6\n",
            "6 is greater\n"
          ]
        }
      ]
    },
    {
      "cell_type": "markdown",
      "source": [
        "WAP to add all numbers divisible by 7 and 9 from 1 to n and n is given by the user."
      ],
      "metadata": {
        "id": "VU-S3cANi-ot"
      }
    },
    {
      "cell_type": "code",
      "source": [
        "sum=0\n",
        "a=int(input('enter a number:'))\n",
        "for i in range(1,a):\n",
        "    if(i%63==0):\n",
        "       sum+=i\n",
        "print(sum)"
      ],
      "metadata": {
        "colab": {
          "base_uri": "https://localhost:8080/"
        },
        "id": "O5cgjcmKi_wV",
        "outputId": "b5368422-2885-4943-e29d-b95b9b347eae"
      },
      "execution_count": 10,
      "outputs": [
        {
          "output_type": "stream",
          "name": "stdout",
          "text": [
            "enter a number:55\n",
            "0\n"
          ]
        }
      ]
    },
    {
      "cell_type": "markdown",
      "source": [
        "WAP to add all prime numbers from 1 to n and n is given by the user."
      ],
      "metadata": {
        "id": "bMDSwx6-jLCz"
      }
    },
    {
      "cell_type": "code",
      "source": [
        "sum=0\n",
        "n=int(input('Enter a number:'))\n",
        "for i in range(2,n+1):\n",
        "    is_prime=True\n",
        "    for j in range(2,int(i**0.5)+1):\n",
        "        if(i%j==0):\n",
        "            is_prime=False\n",
        "            break\n",
        "    if(is_prime==True):\n",
        "        sum+=i\n",
        "print(sum)"
      ],
      "metadata": {
        "colab": {
          "base_uri": "https://localhost:8080/"
        },
        "id": "8z3_08HLjNEH",
        "outputId": "0bf62e8b-bcbe-4d02-c200-9d8149e1f6ac"
      },
      "execution_count": 11,
      "outputs": [
        {
          "output_type": "stream",
          "name": "stdout",
          "text": [
            "Enter a number:45\n",
            "281\n"
          ]
        }
      ]
    },
    {
      "cell_type": "markdown",
      "source": [
        "WAP using function that add all odd numbers from 1 to n, n is given by the user."
      ],
      "metadata": {
        "id": "wRRM86pdjSwu"
      }
    },
    {
      "cell_type": "code",
      "source": [
        "def odd_sum(n):\n",
        "    sum=0\n",
        "    for i in range(1,n+1):\n",
        "        if(i%2!=0):\n",
        "            sum+=i\n",
        "    return sum\n",
        "n=int(input('enter a number:'))\n",
        "print('sum of odd numbers from 1 to',n,'is',odd_sum(n))"
      ],
      "metadata": {
        "colab": {
          "base_uri": "https://localhost:8080/"
        },
        "id": "fzjFMGOxjThf",
        "outputId": "e32ed88a-4c67-4f32-851e-7dfab155a344"
      },
      "execution_count": 12,
      "outputs": [
        {
          "output_type": "stream",
          "name": "stdout",
          "text": [
            "enter a number:34\n",
            "sum of odd numbers from 1 to 34 is 289\n"
          ]
        }
      ]
    },
    {
      "cell_type": "markdown",
      "source": [
        "WAP using function that add all prime numbers from 1 to n, n given by the user."
      ],
      "metadata": {
        "id": "mdbst7TajYsD"
      }
    },
    {
      "cell_type": "code",
      "source": [
        "def prime_sum(n):\n",
        "    sum=0\n",
        "    for i in range(2,n+1):\n",
        "        is_prime=True\n",
        "        for j in range(2,int(i**0.5)+1):\n",
        "            if(i%j==0):\n",
        "                is_prime=False\n",
        "                break\n",
        "        if(is_prime==True):\n",
        "            sum+=i\n",
        "    print(sum)\n",
        "n=int(input('Enter a number:'))\n",
        "prime_sum(n)"
      ],
      "metadata": {
        "colab": {
          "base_uri": "https://localhost:8080/"
        },
        "id": "x-qJJMiJjZuj",
        "outputId": "e19cf5b7-d2d4-4b4a-b2ad-16baf62c4463"
      },
      "execution_count": 14,
      "outputs": [
        {
          "output_type": "stream",
          "name": "stdout",
          "text": [
            "Enter a number:78\n",
            "712\n"
          ]
        }
      ]
    }
  ]
}